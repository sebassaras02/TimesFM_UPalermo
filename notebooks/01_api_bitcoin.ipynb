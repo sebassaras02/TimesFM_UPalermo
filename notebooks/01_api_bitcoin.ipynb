{
 "cells": [
  {
   "cell_type": "code",
   "execution_count": 25,
   "metadata": {},
   "outputs": [],
   "source": [
    "import numpy as np \n",
    "import pandas as pd\n",
    "import yfinance as yf"
   ]
  },
  {
   "cell_type": "code",
   "execution_count": 26,
   "metadata": {},
   "outputs": [],
   "source": [
    "def get_bitcoin_history_yf(start_date, end_date):\n",
    "    btc = yf.Ticker(\"BTC-USD\")\n",
    "    hist = btc.history(start=start_date, end=end_date)\n",
    "    return hist.reset_index()[[\"Date\", \"Close\"]].rename(columns={\"Date\": \"date\", \"Close\": \"price\"})"
   ]
  },
  {
   "cell_type": "code",
   "execution_count": 27,
   "metadata": {},
   "outputs": [],
   "source": [
    "df = get_bitcoin_history_yf(start_date=\"2024-02-01\", end_date=\"2025-01-01\")"
   ]
  },
  {
   "cell_type": "code",
   "execution_count": 32,
   "metadata": {},
   "outputs": [],
   "source": [
    "# df.to_csv(\"/Users/sebastianalejandrosarastizambonino/Documents/conferences/time_series_u_palermo/data/bitcoin_history_yf.csv\", index=False)"
   ]
  }
 ],
 "metadata": {
  "kernelspec": {
   "display_name": "tsfm",
   "language": "python",
   "name": "python3"
  },
  "language_info": {
   "codemirror_mode": {
    "name": "ipython",
    "version": 3
   },
   "file_extension": ".py",
   "mimetype": "text/x-python",
   "name": "python",
   "nbconvert_exporter": "python",
   "pygments_lexer": "ipython3",
   "version": "3.11.13"
  }
 },
 "nbformat": 4,
 "nbformat_minor": 2
}
