{
 "cells": [
  {
   "cell_type": "code",
   "execution_count": 8,
   "metadata": {},
   "outputs": [],
   "source": [
    "import timesfm\n",
    "import pandas as pd"
   ]
  },
  {
   "cell_type": "code",
   "execution_count": 51,
   "metadata": {},
   "outputs": [
    {
     "name": "stderr",
     "output_type": "stream",
     "text": [
      "Fetching 5 files: 100%|██████████| 5/5 [00:00<00:00, 48545.19it/s]\n"
     ]
    }
   ],
   "source": [
    "tfm = timesfm.TimesFm(\n",
    "      hparams=timesfm.TimesFmHparams(\n",
    "          backend=\"gpu\",\n",
    "          per_core_batch_size=32,\n",
    "          horizon_len=10,\n",
    "          num_layers=50,\n",
    "          use_positional_embedding=False,\n",
    "          context_len=2048,\n",
    "      ),\n",
    "      checkpoint=timesfm.TimesFmCheckpoint(\n",
    "          huggingface_repo_id=\"google/timesfm-2.0-500m-pytorch\"),\n",
    "  )"
   ]
  },
  {
   "cell_type": "markdown",
   "metadata": {},
   "source": [
    "Create a function to process a dataframe"
   ]
  },
  {
   "cell_type": "code",
   "execution_count": 52,
   "metadata": {},
   "outputs": [],
   "source": [
    "def process_dataframe(df):\n",
    "    df = df.rename(\n",
    "        columns={\n",
    "            \"date\": \"ds\",\n",
    "            \"price\": \"y\"\n",
    "        }\n",
    "    )\n",
    "    df['ds'] = pd.to_datetime(df['ds'])\n",
    "    df['unique_id'] = \"bitcoin\"\n",
    "    return df"
   ]
  },
  {
   "cell_type": "code",
   "execution_count": 53,
   "metadata": {},
   "outputs": [],
   "source": [
    "df = pd.read_csv(\n",
    "    \"/Users/sebastianalejandrosarastizambonino/Documents/conferences/time_series_u_palermo/data/bitcoin_history_yf.csv\",\n",
    ")"
   ]
  },
  {
   "cell_type": "code",
   "execution_count": 54,
   "metadata": {},
   "outputs": [],
   "source": [
    "df_final = process_dataframe(df)"
   ]
  },
  {
   "cell_type": "markdown",
   "metadata": {},
   "source": [
    "Create a function to make inference over the model"
   ]
  },
  {
   "cell_type": "code",
   "execution_count": 55,
   "metadata": {},
   "outputs": [
    {
     "name": "stdout",
     "output_type": "stream",
     "text": [
      "Help on method forecast_on_df in module timesfm.timesfm_base:\n",
      "\n",
      "forecast_on_df(inputs: pandas.core.frame.DataFrame, freq: str, forecast_context_len: int = 0, value_name: str = 'values', model_name: str = 'timesfm', window_size: int | None = None, num_jobs: int = 1, normalize: bool = False, verbose: bool = True) -> pandas.core.frame.DataFrame method of timesfm.timesfm_torch.TimesFmTorch instance\n",
      "    Forecasts on a list of time series.\n",
      "    \n",
      "    Args:\n",
      "      inputs: A pd.DataFrame of all time series. The dataframe should have a\n",
      "        `unique_id` column for identifying the time series, a `ds` column for\n",
      "        timestamps and a value column for the time series values.\n",
      "      freq: string valued `freq` of data. Notice this is different from the\n",
      "        `freq` required by `forecast`. See `freq_map` for allowed values.\n",
      "      forecast_context_len: If provided none zero, we take the last\n",
      "        `forecast_context_len` time-points from each series as the forecast\n",
      "        context instead of the `context_len` set by the model.\n",
      "      value_name: The name of the value column.\n",
      "      model_name: name of the model to be written into future df.\n",
      "      window_size: window size of trend + residual decomposition. If None then\n",
      "        we do not do decomposition.\n",
      "      num_jobs: number of parallel processes to use for dataframe processing.\n",
      "      normalize: normalize context before forecasting or not.\n",
      "      verbose: output model states in terminal.\n",
      "    \n",
      "    Returns:\n",
      "      Future forecasts dataframe.\n",
      "\n"
     ]
    }
   ],
   "source": [
    "help(tfm.forecast_on_df)"
   ]
  },
  {
   "cell_type": "code",
   "execution_count": 56,
   "metadata": {},
   "outputs": [],
   "source": [
    "def predict_timesfm(df, model):\n",
    "    forecast_df = model.forecast_on_df(\n",
    "        inputs=df,\n",
    "        forecast_context_len=10,\n",
    "        freq=\"D\",  # monthly\n",
    "        value_name=\"y\",\n",
    "        num_jobs=-1,\n",
    "    )\n",
    "    forecast_df = forecast_df[['ds', 'unique_id', 'timesfm']]\n",
    "    forecast_df = forecast_df.rename(\n",
    "        columns={\n",
    "            \"timesfm\": \"yhat\"\n",
    "        }\n",
    "    )\n",
    "    return forecast_df"
   ]
  },
  {
   "cell_type": "code",
   "execution_count": 57,
   "metadata": {},
   "outputs": [
    {
     "data": {
      "text/plain": [
       "Index(['ds', 'y', 'unique_id'], dtype='object')"
      ]
     },
     "execution_count": 57,
     "metadata": {},
     "output_type": "execute_result"
    }
   ],
   "source": [
    "df_final.columns"
   ]
  },
  {
   "cell_type": "code",
   "execution_count": 58,
   "metadata": {},
   "outputs": [
    {
     "name": "stdout",
     "output_type": "stream",
     "text": [
      "Processing dataframe with multiple processes.\n",
      " See https://github.com/google-research/timesfm/blob/master/README.md for updated APIs.\n",
      "Loaded PyTorch TimesFM, likely because python version is 3.11.13 (main, Jun  5 2025, 08:21:08) [Clang 14.0.6 ].\n",
      "Finished preprocessing dataframe.\n",
      "Finished forecasting.\n"
     ]
    }
   ],
   "source": [
    "forecast = predict_timesfm(df_final)"
   ]
  },
  {
   "cell_type": "code",
   "execution_count": 59,
   "metadata": {},
   "outputs": [
    {
     "data": {
      "text/html": [
       "<div>\n",
       "<style scoped>\n",
       "    .dataframe tbody tr th:only-of-type {\n",
       "        vertical-align: middle;\n",
       "    }\n",
       "\n",
       "    .dataframe tbody tr th {\n",
       "        vertical-align: top;\n",
       "    }\n",
       "\n",
       "    .dataframe thead th {\n",
       "        text-align: right;\n",
       "    }\n",
       "</style>\n",
       "<table border=\"1\" class=\"dataframe\">\n",
       "  <thead>\n",
       "    <tr style=\"text-align: right;\">\n",
       "      <th></th>\n",
       "      <th>ds</th>\n",
       "      <th>unique_id</th>\n",
       "      <th>yhat</th>\n",
       "    </tr>\n",
       "  </thead>\n",
       "  <tbody>\n",
       "    <tr>\n",
       "      <th>0</th>\n",
       "      <td>2025-01-01 00:00:00+00:00</td>\n",
       "      <td>bitcoin</td>\n",
       "      <td>93821.898438</td>\n",
       "    </tr>\n",
       "    <tr>\n",
       "      <th>1</th>\n",
       "      <td>2025-01-02 00:00:00+00:00</td>\n",
       "      <td>bitcoin</td>\n",
       "      <td>93758.367188</td>\n",
       "    </tr>\n",
       "    <tr>\n",
       "      <th>2</th>\n",
       "      <td>2025-01-03 00:00:00+00:00</td>\n",
       "      <td>bitcoin</td>\n",
       "      <td>93707.375000</td>\n",
       "    </tr>\n",
       "    <tr>\n",
       "      <th>3</th>\n",
       "      <td>2025-01-04 00:00:00+00:00</td>\n",
       "      <td>bitcoin</td>\n",
       "      <td>93779.257812</td>\n",
       "    </tr>\n",
       "    <tr>\n",
       "      <th>4</th>\n",
       "      <td>2025-01-05 00:00:00+00:00</td>\n",
       "      <td>bitcoin</td>\n",
       "      <td>93857.195312</td>\n",
       "    </tr>\n",
       "    <tr>\n",
       "      <th>5</th>\n",
       "      <td>2025-01-06 00:00:00+00:00</td>\n",
       "      <td>bitcoin</td>\n",
       "      <td>93959.531250</td>\n",
       "    </tr>\n",
       "    <tr>\n",
       "      <th>6</th>\n",
       "      <td>2025-01-07 00:00:00+00:00</td>\n",
       "      <td>bitcoin</td>\n",
       "      <td>94230.304688</td>\n",
       "    </tr>\n",
       "    <tr>\n",
       "      <th>7</th>\n",
       "      <td>2025-01-08 00:00:00+00:00</td>\n",
       "      <td>bitcoin</td>\n",
       "      <td>94447.601562</td>\n",
       "    </tr>\n",
       "    <tr>\n",
       "      <th>8</th>\n",
       "      <td>2025-01-09 00:00:00+00:00</td>\n",
       "      <td>bitcoin</td>\n",
       "      <td>94440.648438</td>\n",
       "    </tr>\n",
       "    <tr>\n",
       "      <th>9</th>\n",
       "      <td>2025-01-10 00:00:00+00:00</td>\n",
       "      <td>bitcoin</td>\n",
       "      <td>94379.914062</td>\n",
       "    </tr>\n",
       "  </tbody>\n",
       "</table>\n",
       "</div>"
      ],
      "text/plain": [
       "                         ds unique_id          yhat\n",
       "0 2025-01-01 00:00:00+00:00   bitcoin  93821.898438\n",
       "1 2025-01-02 00:00:00+00:00   bitcoin  93758.367188\n",
       "2 2025-01-03 00:00:00+00:00   bitcoin  93707.375000\n",
       "3 2025-01-04 00:00:00+00:00   bitcoin  93779.257812\n",
       "4 2025-01-05 00:00:00+00:00   bitcoin  93857.195312\n",
       "5 2025-01-06 00:00:00+00:00   bitcoin  93959.531250\n",
       "6 2025-01-07 00:00:00+00:00   bitcoin  94230.304688\n",
       "7 2025-01-08 00:00:00+00:00   bitcoin  94447.601562\n",
       "8 2025-01-09 00:00:00+00:00   bitcoin  94440.648438\n",
       "9 2025-01-10 00:00:00+00:00   bitcoin  94379.914062"
      ]
     },
     "execution_count": 59,
     "metadata": {},
     "output_type": "execute_result"
    }
   ],
   "source": [
    "forecast"
   ]
  },
  {
   "cell_type": "code",
   "execution_count": null,
   "metadata": {},
   "outputs": [],
   "source": []
  }
 ],
 "metadata": {
  "kernelspec": {
   "display_name": "tsfm",
   "language": "python",
   "name": "python3"
  },
  "language_info": {
   "codemirror_mode": {
    "name": "ipython",
    "version": 3
   },
   "file_extension": ".py",
   "mimetype": "text/x-python",
   "name": "python",
   "nbconvert_exporter": "python",
   "pygments_lexer": "ipython3",
   "version": "3.11.13"
  }
 },
 "nbformat": 4,
 "nbformat_minor": 2
}
